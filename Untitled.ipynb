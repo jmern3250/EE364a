{
 "cells": [
  {
   "cell_type": "code",
   "execution_count": 62,
   "metadata": {
    "collapsed": false
   },
   "outputs": [],
   "source": [
    "import cvxpy as cvx\n",
    "# from cvxpy import *\n",
    "import numpy as np \n",
    "import matplotlib.pyplot as plt \n",
    "import pdb "
   ]
  },
  {
   "cell_type": "code",
   "execution_count": 16,
   "metadata": {
    "collapsed": true
   },
   "outputs": [],
   "source": [
    "#13.3\n",
    "#(a)\n",
    "np.random.seed(1)\n",
    "n = 20\n",
    "pbar = np.ones((n,1))*.03 + np.r_[np.random.rand(n-1,1), np.zeros((1,1))]*.12;\n",
    "S = np.random.randn(n, n); S = np.asmatrix(S)\n",
    "S = S.T*S\n",
    "S = S/max(np.abs(np.diag(S)))*.2\n",
    "S[:, -1] = np.zeros((n, 1))\n",
    "S[-1, :] = np.zeros((n, 1)).T\n",
    "x_unif = np.ones((n, 1))/n; x_unit = np.asmatrix(x_unif)"
   ]
  },
  {
   "cell_type": "code",
   "execution_count": 27,
   "metadata": {
    "collapsed": false
   },
   "outputs": [],
   "source": [
    "x = cvx.Variable(20)\n",
    "obj = cvx.Minimize(cvx.quad_form(x,S))"
   ]
  },
  {
   "cell_type": "code",
   "execution_count": 32,
   "metadata": {
    "collapsed": false
   },
   "outputs": [
    {
     "name": "stdout",
     "output_type": "stream",
     "text": [
      "Status: optimal\n",
      "Optimal Risk: 8.158037017974733e-05\n",
      "Optimal Distribution: [[ 0.17230354]\n",
      " [ 0.08554428]\n",
      " [-0.10006497]\n",
      " [ 0.05230946]\n",
      " [-0.16653503]\n",
      " [ 0.14646199]\n",
      " [-0.00229684]\n",
      " [ 0.20280775]\n",
      " [ 0.10304044]\n",
      " [-0.05316215]\n",
      " [-0.05415244]\n",
      " [ 0.07297358]\n",
      " [ 0.1854501 ]\n",
      " [ 0.16559395]\n",
      " [-0.25517064]\n",
      " [-0.05046095]\n",
      " [-0.17036126]\n",
      " [ 0.03118868]\n",
      " [ 0.14946506]\n",
      " [ 0.48506547]]\n"
     ]
    }
   ],
   "source": [
    "constraints_0 = [np.ones([1,20])*(x) == 1,\n",
    "                pbar.T*(x) >= pbar.T.dot(x_unif)]\n",
    "prob = cvx.Problem(obj, constraints_0)\n",
    "prob.solve()\n",
    "print('Status:', prob.status)\n",
    "print('Optimal Risk:', prob.value)\n",
    "print('Optimal Distribution:', x.value)"
   ]
  },
  {
   "cell_type": "code",
   "execution_count": 34,
   "metadata": {
    "collapsed": false
   },
   "outputs": [
    {
     "name": "stdout",
     "output_type": "stream",
     "text": [
      "Status: optimal\n",
      "Optimal Risk: 0.001560287437880789\n",
      "Optimal Distribution: [[  1.10697030e-01]\n",
      " [  5.90461411e-02]\n",
      " [  2.65748460e-10]\n",
      " [  2.12888735e-02]\n",
      " [  9.14965725e-10]\n",
      " [  9.80498965e-10]\n",
      " [  8.73529748e-02]\n",
      " [  4.22657662e-02]\n",
      " [  3.70192507e-02]\n",
      " [  5.69909657e-02]\n",
      " [  8.59215597e-02]\n",
      " [  2.31910351e-02]\n",
      " [  4.61292686e-02]\n",
      " [  2.57677071e-02]\n",
      " [  3.70924254e-10]\n",
      " [  2.90128509e-09]\n",
      " [  3.51673429e-02]\n",
      " [  1.39469208e-01]\n",
      " [  6.70272353e-02]\n",
      " [  1.62665636e-01]]\n"
     ]
    }
   ],
   "source": [
    "constraints_1 = constraints_0 + [x >= 0]\n",
    "prob = cvx.Problem(obj, constraints_1)\n",
    "prob.solve()\n",
    "print('Status:', prob.status)\n",
    "print('Optimal Risk:', prob.value)\n",
    "print('Optimal Distribution:', x.value)"
   ]
  },
  {
   "cell_type": "code",
   "execution_count": 35,
   "metadata": {
    "collapsed": false
   },
   "outputs": [
    {
     "name": "stdout",
     "output_type": "stream",
     "text": [
      "Status: optimal\n",
      "Optimal Risk: 8.158033804874511e-05\n",
      "Optimal Distribution: [[ 0.17228975]\n",
      " [ 0.0855527 ]\n",
      " [-0.10007184]\n",
      " [ 0.05231169]\n",
      " [-0.16654099]\n",
      " [ 0.14640523]\n",
      " [-0.00235107]\n",
      " [ 0.2028064 ]\n",
      " [ 0.10304532]\n",
      " [-0.05317665]\n",
      " [-0.05411093]\n",
      " [ 0.07298781]\n",
      " [ 0.18541967]\n",
      " [ 0.16563737]\n",
      " [-0.2551374 ]\n",
      " [-0.05047944]\n",
      " [-0.17038558]\n",
      " [ 0.03115687]\n",
      " [ 0.14946293]\n",
      " [ 0.48517817]]\n"
     ]
    }
   ],
   "source": [
    "constraints_2 = constraints_0 + [cvx.abs(x) <= 1.5]\n",
    "prob = cvx.Problem(obj, constraints_2)\n",
    "prob.solve()\n",
    "print('Status:', prob.status)\n",
    "print('Optimal Risk:', prob.value)\n",
    "print('Optimal Distribution:', x.value)"
   ]
  },
  {
   "cell_type": "code",
   "execution_count": 64,
   "metadata": {
    "collapsed": false
   },
   "outputs": [
    {
     "ename": "TypeError",
     "evalue": "'NoneType' object is not subscriptable",
     "output_type": "error",
     "traceback": [
      "\u001b[1;31m---------------------------------------------------------------------------\u001b[0m",
      "\u001b[1;31mTypeError\u001b[0m                                 Traceback (most recent call last)",
      "\u001b[1;32m<ipython-input-64-6f753fe216bb>\u001b[0m in \u001b[0;36m<module>\u001b[1;34m()\u001b[0m\n\u001b[0;32m      5\u001b[0m \u001b[0mconstraints_0\u001b[0m \u001b[1;33m=\u001b[0m \u001b[1;33m[\u001b[0m\u001b[0mnp\u001b[0m\u001b[1;33m.\u001b[0m\u001b[0mones\u001b[0m\u001b[1;33m(\u001b[0m\u001b[1;33m[\u001b[0m\u001b[1;36m1\u001b[0m\u001b[1;33m,\u001b[0m\u001b[1;36m20\u001b[0m\u001b[1;33m]\u001b[0m\u001b[1;33m)\u001b[0m\u001b[1;33m*\u001b[0m\u001b[1;33m(\u001b[0m\u001b[0mx\u001b[0m\u001b[1;33m)\u001b[0m \u001b[1;33m==\u001b[0m \u001b[1;36m1\u001b[0m\u001b[1;33m]\u001b[0m\u001b[1;33m\u001b[0m\u001b[0m\n\u001b[0;32m      6\u001b[0m \u001b[0mprob\u001b[0m \u001b[1;33m=\u001b[0m \u001b[0mcvx\u001b[0m\u001b[1;33m.\u001b[0m\u001b[0mProblem\u001b[0m\u001b[1;33m(\u001b[0m\u001b[0mobj\u001b[0m\u001b[1;33m,\u001b[0m \u001b[0mconstraints_0\u001b[0m\u001b[1;33m)\u001b[0m\u001b[1;33m\u001b[0m\u001b[0m\n\u001b[1;32m----> 7\u001b[1;33m \u001b[0mprob\u001b[0m\u001b[1;33m.\u001b[0m\u001b[0msolve\u001b[0m\u001b[1;33m(\u001b[0m\u001b[1;33m)\u001b[0m\u001b[1;33m\u001b[0m\u001b[0m\n\u001b[0m",
      "\u001b[1;32mC:\\Users\\johnm_000\\Anaconda2\\envs\\ipykernel_35\\lib\\site-packages\\cvxpy\\problems\\problem.py\u001b[0m in \u001b[0;36msolve\u001b[1;34m(self, *args, **kwargs)\u001b[0m\n\u001b[0;32m    193\u001b[0m             \u001b[1;32mreturn\u001b[0m \u001b[0mfunc\u001b[0m\u001b[1;33m(\u001b[0m\u001b[0mself\u001b[0m\u001b[1;33m,\u001b[0m \u001b[1;33m*\u001b[0m\u001b[0margs\u001b[0m\u001b[1;33m,\u001b[0m \u001b[1;33m**\u001b[0m\u001b[0mkwargs\u001b[0m\u001b[1;33m)\u001b[0m\u001b[1;33m\u001b[0m\u001b[0m\n\u001b[0;32m    194\u001b[0m         \u001b[1;32melse\u001b[0m\u001b[1;33m:\u001b[0m\u001b[1;33m\u001b[0m\u001b[0m\n\u001b[1;32m--> 195\u001b[1;33m             \u001b[1;32mreturn\u001b[0m \u001b[0mself\u001b[0m\u001b[1;33m.\u001b[0m\u001b[0m_solve\u001b[0m\u001b[1;33m(\u001b[0m\u001b[1;33m*\u001b[0m\u001b[0margs\u001b[0m\u001b[1;33m,\u001b[0m \u001b[1;33m**\u001b[0m\u001b[0mkwargs\u001b[0m\u001b[1;33m)\u001b[0m\u001b[1;33m\u001b[0m\u001b[0m\n\u001b[0m\u001b[0;32m    196\u001b[0m \u001b[1;33m\u001b[0m\u001b[0m\n\u001b[0;32m    197\u001b[0m     \u001b[1;33m@\u001b[0m\u001b[0mclassmethod\u001b[0m\u001b[1;33m\u001b[0m\u001b[0m\n",
      "\u001b[1;32mC:\\Users\\johnm_000\\Anaconda2\\envs\\ipykernel_35\\lib\\site-packages\\cvxpy\\problems\\problem.py\u001b[0m in \u001b[0;36m_solve\u001b[1;34m(self, solver, ignore_dcp, warm_start, verbose, parallel, **kwargs)\u001b[0m\n\u001b[0;32m    283\u001b[0m             results_dict = solver.solve(objective, constraints,\n\u001b[0;32m    284\u001b[0m                                         \u001b[0mself\u001b[0m\u001b[1;33m.\u001b[0m\u001b[0m_cached_data\u001b[0m\u001b[1;33m,\u001b[0m \u001b[0mwarm_start\u001b[0m\u001b[1;33m,\u001b[0m \u001b[0mverbose\u001b[0m\u001b[1;33m,\u001b[0m\u001b[1;33m\u001b[0m\u001b[0m\n\u001b[1;32m--> 285\u001b[1;33m                                         kwargs)\n\u001b[0m\u001b[0;32m    286\u001b[0m             \u001b[0mself\u001b[0m\u001b[1;33m.\u001b[0m\u001b[0m_update_problem_state\u001b[0m\u001b[1;33m(\u001b[0m\u001b[0mresults_dict\u001b[0m\u001b[1;33m,\u001b[0m \u001b[0msym_data\u001b[0m\u001b[1;33m,\u001b[0m \u001b[0msolver\u001b[0m\u001b[1;33m)\u001b[0m\u001b[1;33m\u001b[0m\u001b[0m\n\u001b[0;32m    287\u001b[0m             \u001b[1;32mreturn\u001b[0m \u001b[0mself\u001b[0m\u001b[1;33m.\u001b[0m\u001b[0mvalue\u001b[0m\u001b[1;33m\u001b[0m\u001b[0m\n",
      "\u001b[1;32mC:\\Users\\johnm_000\\Anaconda2\\envs\\ipykernel_35\\lib\\site-packages\\cvxpy\\problems\\solvers\\ls_intf.py\u001b[0m in \u001b[0;36msolve\u001b[1;34m(self, objective, constraints, cached_data, warm_start, verbose, solver_opts)\u001b[0m\n\u001b[0;32m    147\u001b[0m \u001b[1;33m\u001b[0m\u001b[0m\n\u001b[0;32m    148\u001b[0m         \u001b[1;31m# Extract the coefficients\u001b[0m\u001b[1;33m\u001b[0m\u001b[1;33m\u001b[0m\u001b[0m\n\u001b[1;32m--> 149\u001b[1;33m         \u001b[1;33m(\u001b[0m\u001b[0mPs\u001b[0m\u001b[1;33m,\u001b[0m \u001b[0mQ\u001b[0m\u001b[1;33m,\u001b[0m \u001b[0mR\u001b[0m\u001b[1;33m)\u001b[0m \u001b[1;33m=\u001b[0m \u001b[0mextractor\u001b[0m\u001b[1;33m.\u001b[0m\u001b[0mget_coeffs\u001b[0m\u001b[1;33m(\u001b[0m\u001b[0mobjective\u001b[0m\u001b[1;33m.\u001b[0m\u001b[0margs\u001b[0m\u001b[1;33m[\u001b[0m\u001b[1;36m0\u001b[0m\u001b[1;33m]\u001b[0m\u001b[1;33m)\u001b[0m\u001b[1;33m\u001b[0m\u001b[0m\n\u001b[0m\u001b[0;32m    150\u001b[0m \u001b[1;33m\u001b[0m\u001b[0m\n\u001b[0;32m    151\u001b[0m         \u001b[0mP\u001b[0m \u001b[1;33m=\u001b[0m \u001b[0mPs\u001b[0m\u001b[1;33m[\u001b[0m\u001b[1;36m0\u001b[0m\u001b[1;33m]\u001b[0m\u001b[1;33m\u001b[0m\u001b[0m\n",
      "\u001b[1;32mC:\\Users\\johnm_000\\Anaconda2\\envs\\ipykernel_35\\lib\\site-packages\\cvxpy\\utilities\\quadratic.py\u001b[0m in \u001b[0;36mget_coeffs\u001b[1;34m(self, expr)\u001b[0m\n\u001b[0;32m     57\u001b[0m             \u001b[1;32mreturn\u001b[0m \u001b[0mself\u001b[0m\u001b[1;33m.\u001b[0m\u001b[0m_coeffs_matrix_frac\u001b[0m\u001b[1;33m(\u001b[0m\u001b[0mexpr\u001b[0m\u001b[1;33m)\u001b[0m\u001b[1;33m\u001b[0m\u001b[0m\n\u001b[0;32m     58\u001b[0m         \u001b[1;32melif\u001b[0m \u001b[0misinstance\u001b[0m\u001b[1;33m(\u001b[0m\u001b[0mexpr\u001b[0m\u001b[1;33m,\u001b[0m \u001b[0mcvx\u001b[0m\u001b[1;33m.\u001b[0m\u001b[0maffine\u001b[0m\u001b[1;33m.\u001b[0m\u001b[0maffine_atom\u001b[0m\u001b[1;33m.\u001b[0m\u001b[0mAffAtom\u001b[0m\u001b[1;33m)\u001b[0m\u001b[1;33m:\u001b[0m\u001b[1;33m\u001b[0m\u001b[0m\n\u001b[1;32m---> 59\u001b[1;33m             \u001b[1;32mreturn\u001b[0m \u001b[0mself\u001b[0m\u001b[1;33m.\u001b[0m\u001b[0m_coeffs_affine_atom\u001b[0m\u001b[1;33m(\u001b[0m\u001b[0mexpr\u001b[0m\u001b[1;33m)\u001b[0m\u001b[1;33m\u001b[0m\u001b[0m\n\u001b[0m\u001b[0;32m     60\u001b[0m         \u001b[1;32melse\u001b[0m\u001b[1;33m:\u001b[0m\u001b[1;33m\u001b[0m\u001b[0m\n\u001b[0;32m     61\u001b[0m             \u001b[1;32mraise\u001b[0m \u001b[0mException\u001b[0m\u001b[1;33m(\u001b[0m\u001b[1;34m\"Unknown expression type %s.\"\u001b[0m \u001b[1;33m%\u001b[0m \u001b[0mtype\u001b[0m\u001b[1;33m(\u001b[0m\u001b[0mexpr\u001b[0m\u001b[1;33m)\u001b[0m\u001b[1;33m)\u001b[0m\u001b[1;33m\u001b[0m\u001b[0m\n",
      "\u001b[1;32mC:\\Users\\johnm_000\\Anaconda2\\envs\\ipykernel_35\\lib\\site-packages\\cvxpy\\utilities\\quadratic.py\u001b[0m in \u001b[0;36m_coeffs_affine_atom\u001b[1;34m(self, expr)\u001b[0m\n\u001b[0;32m    170\u001b[0m             \u001b[1;32melse\u001b[0m\u001b[1;33m:\u001b[0m\u001b[1;33m\u001b[0m\u001b[0m\n\u001b[0;32m    171\u001b[0m                 \u001b[1;32mif\u001b[0m \u001b[0mParg\u001b[0m \u001b[1;32mis\u001b[0m \u001b[1;32mNone\u001b[0m\u001b[1;33m:\u001b[0m\u001b[1;33m\u001b[0m\u001b[0m\n\u001b[1;32m--> 172\u001b[1;33m                     \u001b[1;33m(\u001b[0m\u001b[0mParg\u001b[0m\u001b[1;33m,\u001b[0m \u001b[0mQarg\u001b[0m\u001b[1;33m,\u001b[0m \u001b[0mRarg\u001b[0m\u001b[1;33m)\u001b[0m \u001b[1;33m=\u001b[0m \u001b[0mself\u001b[0m\u001b[1;33m.\u001b[0m\u001b[0mget_coeffs\u001b[0m\u001b[1;33m(\u001b[0m\u001b[0marg\u001b[0m\u001b[1;33m)\u001b[0m\u001b[1;33m\u001b[0m\u001b[0m\n\u001b[0m\u001b[0;32m    173\u001b[0m                 \u001b[1;32melse\u001b[0m\u001b[1;33m:\u001b[0m\u001b[1;33m\u001b[0m\u001b[0m\n\u001b[0;32m    174\u001b[0m                     \u001b[1;33m(\u001b[0m\u001b[0mp\u001b[0m\u001b[1;33m,\u001b[0m \u001b[0mq\u001b[0m\u001b[1;33m,\u001b[0m \u001b[0mr\u001b[0m\u001b[1;33m)\u001b[0m \u001b[1;33m=\u001b[0m \u001b[0mself\u001b[0m\u001b[1;33m.\u001b[0m\u001b[0mget_coeffs\u001b[0m\u001b[1;33m(\u001b[0m\u001b[0marg\u001b[0m\u001b[1;33m)\u001b[0m\u001b[1;33m\u001b[0m\u001b[0m\n",
      "\u001b[1;32mC:\\Users\\johnm_000\\Anaconda2\\envs\\ipykernel_35\\lib\\site-packages\\cvxpy\\utilities\\quadratic.py\u001b[0m in \u001b[0;36mget_coeffs\u001b[1;34m(self, expr)\u001b[0m\n\u001b[0;32m     57\u001b[0m             \u001b[1;32mreturn\u001b[0m \u001b[0mself\u001b[0m\u001b[1;33m.\u001b[0m\u001b[0m_coeffs_matrix_frac\u001b[0m\u001b[1;33m(\u001b[0m\u001b[0mexpr\u001b[0m\u001b[1;33m)\u001b[0m\u001b[1;33m\u001b[0m\u001b[0m\n\u001b[0;32m     58\u001b[0m         \u001b[1;32melif\u001b[0m \u001b[0misinstance\u001b[0m\u001b[1;33m(\u001b[0m\u001b[0mexpr\u001b[0m\u001b[1;33m,\u001b[0m \u001b[0mcvx\u001b[0m\u001b[1;33m.\u001b[0m\u001b[0maffine\u001b[0m\u001b[1;33m.\u001b[0m\u001b[0maffine_atom\u001b[0m\u001b[1;33m.\u001b[0m\u001b[0mAffAtom\u001b[0m\u001b[1;33m)\u001b[0m\u001b[1;33m:\u001b[0m\u001b[1;33m\u001b[0m\u001b[0m\n\u001b[1;32m---> 59\u001b[1;33m             \u001b[1;32mreturn\u001b[0m \u001b[0mself\u001b[0m\u001b[1;33m.\u001b[0m\u001b[0m_coeffs_affine_atom\u001b[0m\u001b[1;33m(\u001b[0m\u001b[0mexpr\u001b[0m\u001b[1;33m)\u001b[0m\u001b[1;33m\u001b[0m\u001b[0m\n\u001b[0m\u001b[0;32m     60\u001b[0m         \u001b[1;32melse\u001b[0m\u001b[1;33m:\u001b[0m\u001b[1;33m\u001b[0m\u001b[0m\n\u001b[0;32m     61\u001b[0m             \u001b[1;32mraise\u001b[0m \u001b[0mException\u001b[0m\u001b[1;33m(\u001b[0m\u001b[1;34m\"Unknown expression type %s.\"\u001b[0m \u001b[1;33m%\u001b[0m \u001b[0mtype\u001b[0m\u001b[1;33m(\u001b[0m\u001b[0mexpr\u001b[0m\u001b[1;33m)\u001b[0m\u001b[1;33m)\u001b[0m\u001b[1;33m\u001b[0m\u001b[0m\n",
      "\u001b[1;32mC:\\Users\\johnm_000\\Anaconda2\\envs\\ipykernel_35\\lib\\site-packages\\cvxpy\\utilities\\quadratic.py\u001b[0m in \u001b[0;36m_coeffs_affine_atom\u001b[1;34m(self, expr)\u001b[0m\n\u001b[0;32m    167\u001b[0m         \u001b[1;32mfor\u001b[0m \u001b[0midx\u001b[0m\u001b[1;33m,\u001b[0m \u001b[0marg\u001b[0m \u001b[1;32min\u001b[0m \u001b[0menumerate\u001b[0m\u001b[1;33m(\u001b[0m\u001b[0mexpr\u001b[0m\u001b[1;33m.\u001b[0m\u001b[0margs\u001b[0m\u001b[1;33m)\u001b[0m\u001b[1;33m:\u001b[0m\u001b[1;33m\u001b[0m\u001b[0m\n\u001b[0;32m    168\u001b[0m             \u001b[1;32mif\u001b[0m \u001b[0marg\u001b[0m\u001b[1;33m.\u001b[0m\u001b[0mis_constant\u001b[0m\u001b[1;33m(\u001b[0m\u001b[1;33m)\u001b[0m\u001b[1;33m:\u001b[0m\u001b[1;33m\u001b[0m\u001b[0m\n\u001b[1;32m--> 169\u001b[1;33m                 \u001b[0mfake_args\u001b[0m \u001b[1;33m+=\u001b[0m \u001b[1;33m[\u001b[0m\u001b[0mlu\u001b[0m\u001b[1;33m.\u001b[0m\u001b[0mcreate_const\u001b[0m\u001b[1;33m(\u001b[0m\u001b[0marg\u001b[0m\u001b[1;33m.\u001b[0m\u001b[0mvalue\u001b[0m\u001b[1;33m,\u001b[0m \u001b[0marg\u001b[0m\u001b[1;33m.\u001b[0m\u001b[0msize\u001b[0m\u001b[1;33m)\u001b[0m\u001b[1;33m]\u001b[0m\u001b[1;33m\u001b[0m\u001b[0m\n\u001b[0m\u001b[0;32m    170\u001b[0m             \u001b[1;32melse\u001b[0m\u001b[1;33m:\u001b[0m\u001b[1;33m\u001b[0m\u001b[0m\n\u001b[0;32m    171\u001b[0m                 \u001b[1;32mif\u001b[0m \u001b[0mParg\u001b[0m \u001b[1;32mis\u001b[0m \u001b[1;32mNone\u001b[0m\u001b[1;33m:\u001b[0m\u001b[1;33m\u001b[0m\u001b[0m\n",
      "\u001b[1;32mC:\\Users\\johnm_000\\Anaconda2\\envs\\ipykernel_35\\lib\\site-packages\\cvxpy\\lin_ops\\lin_utils.py\u001b[0m in \u001b[0;36mcreate_const\u001b[1;34m(value, size, sparse)\u001b[0m\n\u001b[0;32m    112\u001b[0m         \u001b[0mop_type\u001b[0m \u001b[1;33m=\u001b[0m \u001b[0mlo\u001b[0m\u001b[1;33m.\u001b[0m\u001b[0mSCALAR_CONST\u001b[0m\u001b[1;33m\u001b[0m\u001b[0m\n\u001b[0;32m    113\u001b[0m         \u001b[1;32mif\u001b[0m \u001b[1;32mnot\u001b[0m \u001b[0mnp\u001b[0m\u001b[1;33m.\u001b[0m\u001b[0misscalar\u001b[0m\u001b[1;33m(\u001b[0m\u001b[0mvalue\u001b[0m\u001b[1;33m)\u001b[0m\u001b[1;33m:\u001b[0m\u001b[1;33m\u001b[0m\u001b[0m\n\u001b[1;32m--> 114\u001b[1;33m             \u001b[0mvalue\u001b[0m \u001b[1;33m=\u001b[0m \u001b[0mvalue\u001b[0m\u001b[1;33m[\u001b[0m\u001b[1;36m0\u001b[0m\u001b[1;33m,\u001b[0m \u001b[1;36m0\u001b[0m\u001b[1;33m]\u001b[0m\u001b[1;33m\u001b[0m\u001b[0m\n\u001b[0m\u001b[0;32m    115\u001b[0m     \u001b[1;31m# Check if sparse.\u001b[0m\u001b[1;33m\u001b[0m\u001b[1;33m\u001b[0m\u001b[0m\n\u001b[0;32m    116\u001b[0m     \u001b[1;32melif\u001b[0m \u001b[0msparse\u001b[0m\u001b[1;33m:\u001b[0m\u001b[1;33m\u001b[0m\u001b[0m\n",
      "\u001b[1;31mTypeError\u001b[0m: 'NoneType' object is not subscriptable"
     ]
    }
   ],
   "source": [
    "# (b)\n",
    "x = cvx.Variable(20)\n",
    "gamma = cvx.Parameter(sign='positive')\n",
    "obj = cvx.Minimize(gamma*cvx.quad_form(x,S)-pbar.T*x)\n",
    "constraints_0 = [np.ones([1,20])*(x) == 1]\n",
    "prob = cvx.Problem(obj, constraints_0)\n",
    "N = 100\n",
    "gamma_vals = np.logspace(-2,3,num=N)\n",
    "for i in range(N):\n",
    "    gamma.value = gamma_vals[i]\n",
    "    prob.solve()"
   ]
  },
  {
   "cell_type": "code",
   "execution_count": 36,
   "metadata": {
    "collapsed": false
   },
   "outputs": [
    {
     "data": {
      "image/png": "[encoded data removed]",
      "text/plain": [
       "<matplotlib.figure.Figure at 0x2354d1809b0>"
      ]
     },
     "metadata": {},
     "output_type": "display_data"
    }
   ],
   "source": [
    "np.random.seed(1)\n",
    "\n",
    "T = 96\n",
    "t = np.linspace(1, T, num=T).reshape(T,1)\n",
    "p = np.exp(-np.cos((t-15)*2*np.pi/T)+0.01*np.random.randn(T,1))\n",
    "u = 2*np.exp(-0.6*np.cos((t+40)*np.pi/T) - 0.7*np.cos(t*4*np.pi/T)+0.01*np.random.randn(T,1))\n",
    "\n",
    "\n",
    "plt.figure(1)\n",
    "plt.plot(t/4, p); \n",
    "plt.plot(t/4, u, 'r'); \n",
    "plt.show()\n"
   ]
  },
  {
   "cell_type": "code",
   "execution_count": 53,
   "metadata": {
    "collapsed": false
   },
   "outputs": [],
   "source": [
    "#A16.9\n",
    "Q = 35.0\n",
    "C = 3.0\n",
    "D = 3.0\n",
    "A = np.zeros([96,96])\n",
    "for i in range(96):\n",
    "    A[i, :i+1] = 1\n",
    "# print(A)"
   ]
  },
  {
   "cell_type": "code",
   "execution_count": 54,
   "metadata": {
    "collapsed": true
   },
   "outputs": [],
   "source": [
    "c = cvx.Variable(96)\n",
    "obj = cvx.Minimize(p.T*(u+c))\n",
    "q1 = 0.0\n",
    "q = q1 + A*c\n",
    "# qT = q1 + np.ones([1,96])*c"
   ]
  },
  {
   "cell_type": "code",
   "execution_count": 61,
   "metadata": {
    "collapsed": false
   },
   "outputs": [
    {
     "name": "stdout",
     "output_type": "stream",
     "text": [
      "Status: optimal\n",
      "Optimal Cost: 379.410976996054\n",
      "Optimal Charge Distribution: [[  6.02051535e-10]\n",
      " [  4.13289850e-10]\n",
      " [  1.50245804e-12]\n",
      " [  1.31929764e-09]\n",
      " [ -1.50623781e-09]\n",
      " [  1.28584700e+00]\n",
      " [ -1.28584699e+00]\n",
      " [  1.99761156e-09]\n",
      " [  1.63996077e-09]\n",
      " [  3.00000000e+00]\n",
      " [  3.00000000e+00]\n",
      " [  3.00000000e+00]\n",
      " [  3.00000000e+00]\n",
      " [  3.00000000e+00]\n",
      " [  3.00000000e+00]\n",
      " [  3.00000000e+00]\n",
      " [  3.00000000e+00]\n",
      " [  3.00000000e+00]\n",
      " [  3.00000000e+00]\n",
      " [  3.00000000e+00]\n",
      " [  2.00000001e+00]\n",
      " [ -7.36684828e-10]\n",
      " [  2.04707300e-10]\n",
      " [  5.40975398e-10]\n",
      " [ -7.28983812e-10]\n",
      " [  1.02170768e-09]\n",
      " [ -2.09424774e-10]\n",
      " [  4.15190474e-10]\n",
      " [  1.00449226e-10]\n",
      " [ -2.27760598e-10]\n",
      " [  3.03931719e-10]\n",
      " [ -1.90871926e-12]\n",
      " [  6.84183128e-11]\n",
      " [  7.53045028e-11]\n",
      " [  7.30142984e-11]\n",
      " [ -1.02056446e-10]\n",
      " [  1.95667038e-10]\n",
      " [  2.94078313e-11]\n",
      " [ -1.01639276e-10]\n",
      " [  1.99095478e-11]\n",
      " [  3.46051740e-11]\n",
      " [  6.23056007e-11]\n",
      " [  9.20164872e-11]\n",
      " [ -1.65826956e-10]\n",
      " [  7.07978331e-11]\n",
      " [  7.45845007e-11]\n",
      " [  3.98210023e-11]\n",
      " [ -2.06760902e-10]\n",
      " [  1.64649352e-10]\n",
      " [ -4.23662610e-11]\n",
      " [ -3.25940261e-11]\n",
      " [ -2.87843056e-11]\n",
      " [  1.05107108e-10]\n",
      " [ -5.33916733e-11]\n",
      " [  1.07461744e-11]\n",
      " [ -2.99799104e-11]\n",
      " [ -3.80204443e-10]\n",
      " [ -3.00000000e+00]\n",
      " [ -3.00000000e+00]\n",
      " [ -3.00000000e+00]\n",
      " [ -3.00000000e+00]\n",
      " [ -3.00000000e+00]\n",
      " [ -3.00000000e+00]\n",
      " [ -3.00000000e+00]\n",
      " [ -3.00000000e+00]\n",
      " [ -3.00000000e+00]\n",
      " [ -3.00000000e+00]\n",
      " [ -3.00000000e+00]\n",
      " [ -2.00000000e+00]\n",
      " [  1.33180694e-10]\n",
      " [  1.02122867e-10]\n",
      " [ -6.93658770e-11]\n",
      " [ -1.74520277e-11]\n",
      " [ -9.42844781e-11]\n",
      " [ -5.84885467e-11]\n",
      " [  2.13799503e-10]\n",
      " [ -6.47612432e-11]\n",
      " [ -9.22971180e-11]\n",
      " [  5.68776758e-11]\n",
      " [ -5.67325936e-11]\n",
      " [  5.11539051e-11]\n",
      " [  2.98300892e-11]\n",
      " [  3.38073693e-12]\n",
      " [ -7.47535952e-12]\n",
      " [  2.35525004e-11]\n",
      " [ -1.13905800e-11]\n",
      " [  1.37261638e-10]\n",
      " [ -6.11089225e-11]\n",
      " [  1.28104766e-10]\n",
      " [ -4.17453201e-11]\n",
      " [ -3.56746255e-11]\n",
      " [  7.41406594e-11]\n",
      " [  7.12963383e-11]\n",
      " [  2.25419380e-10]\n",
      " [ -1.41237884e-10]\n",
      " [ -6.59421340e-10]]\n"
     ]
    }
   ],
   "source": [
    "constraints = [q <= Q, \n",
    "              q >= 0,\n",
    "              c <= C,\n",
    "              c >= -D, \n",
    "              c >= -u,\n",
    "              np.ones([1,96])*c == 0]\n",
    "prob = cvx.Problem(obj, constraints)\n",
    "prob.solve()\n",
    "print('Status:', prob.status)\n",
    "print('Optimal Cost:', prob.value)\n",
    "print('Optimal Charge Distribution:', c.value)"
   ]
  },
  {
   "cell_type": "code",
   "execution_count": null,
   "metadata": {
    "collapsed": true
   },
   "outputs": [],
   "source": []
  }
 ],
 "metadata": {
  "anaconda-cloud": {},
  "kernelspec": {
   "display_name": "Python [conda env:ipykernel_35]",
   "language": "python",
   "name": "conda-env-ipykernel_35-py"
  },
  "language_info": {
   "codemirror_mode": {
    "name": "ipython",
    "version": 3
   },
   "file_extension": ".py",
   "mimetype": "text/x-python",
   "name": "python",
   "nbconvert_exporter": "python",
   "pygments_lexer": "ipython3",
   "version": "3.5.3"
  }
 },
 "nbformat": 4,
 "nbformat_minor": 1
}
