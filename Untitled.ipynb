{
 "cells": [
  {
   "cell_type": "code",
   "execution_count": 1,
   "metadata": {},
   "outputs": [],
   "source": [
    "import cvxpy as cvx\n",
    "# from cvxpy import *\n",
    "import numpy as np \n",
    "import matplotlib.pyplot as plt \n",
    "import pdb "
   ]
  },
  {
   "cell_type": "code",
   "execution_count": 2,
   "metadata": {
    "collapsed": true
   },
   "outputs": [],
   "source": [
    "#13.3\n",
    "#(a)\n",
    "np.random.seed(1)\n",
    "n = 20\n",
    "pbar = np.ones((n,1))*.03 + np.r_[np.random.rand(n-1,1), np.zeros((1,1))]*.12;\n",
    "S = np.random.randn(n, n); S = np.asmatrix(S)\n",
    "S = S.T*S\n",
    "S = S/max(np.abs(np.diag(S)))*.2\n",
    "S[:, -1] = np.zeros((n, 1))\n",
    "S[-1, :] = np.zeros((n, 1)).T\n",
    "x_unif = np.ones((n, 1))/n; x_unit = np.asmatrix(x_unif)"
   ]
  },
  {
   "cell_type": "code",
   "execution_count": 3,
   "metadata": {},
   "outputs": [],
   "source": [
    "x = cvx.Variable(20)\n",
    "obj = cvx.Minimize(cvx.quad_form(x,S))"
   ]
  },
  {
   "cell_type": "code",
   "execution_count": 4,
   "metadata": {},
   "outputs": [
    {
     "name": "stdout",
     "output_type": "stream",
     "text": [
      "Status: optimal\n",
      "Optimal Risk: 8.158037017978449e-05\n",
      "Optimal Distribution: [[ 0.17230354]\n",
      " [ 0.08554428]\n",
      " [-0.10006497]\n",
      " [ 0.05230946]\n",
      " [-0.16653503]\n",
      " [ 0.14646199]\n",
      " [-0.00229684]\n",
      " [ 0.20280775]\n",
      " [ 0.10304044]\n",
      " [-0.05316215]\n",
      " [-0.05415244]\n",
      " [ 0.07297358]\n",
      " [ 0.1854501 ]\n",
      " [ 0.16559395]\n",
      " [-0.25517064]\n",
      " [-0.05046095]\n",
      " [-0.17036126]\n",
      " [ 0.03118868]\n",
      " [ 0.14946506]\n",
      " [ 0.48506547]]\n"
     ]
    }
   ],
   "source": [
    "constraints_0 = [np.ones([1,20])*(x) == 1,\n",
    "                pbar.T*(x) >= pbar.T.dot(x_unif)]\n",
    "prob = cvx.Problem(obj, constraints_0)\n",
    "prob.solve()\n",
    "print('Status:', prob.status)\n",
    "print('Optimal Risk:', prob.value)\n",
    "print('Optimal Distribution:', x.value)"
   ]
  },
  {
   "cell_type": "code",
   "execution_count": 5,
   "metadata": {},
   "outputs": [
    {
     "name": "stdout",
     "output_type": "stream",
     "text": [
      "Status: optimal\n",
      "Optimal Risk: 0.0015602874378807324\n",
      "Optimal Distribution: [[  1.10697030e-01]\n",
      " [  5.90461411e-02]\n",
      " [  2.65750471e-10]\n",
      " [  2.12888735e-02]\n",
      " [  9.14972497e-10]\n",
      " [  9.80506058e-10]\n",
      " [  8.73529748e-02]\n",
      " [  4.22657662e-02]\n",
      " [  3.70192507e-02]\n",
      " [  5.69909657e-02]\n",
      " [  8.59215597e-02]\n",
      " [  2.31910351e-02]\n",
      " [  4.61292686e-02]\n",
      " [  2.57677071e-02]\n",
      " [  3.70927022e-10]\n",
      " [  2.90130632e-09]\n",
      " [  3.51673429e-02]\n",
      " [  1.39469208e-01]\n",
      " [  6.70272353e-02]\n",
      " [  1.62665636e-01]]\n"
     ]
    }
   ],
   "source": [
    "constraints_1 = constraints_0 + [x >= 0]\n",
    "prob = cvx.Problem(obj, constraints_1)\n",
    "prob.solve()\n",
    "print('Status:', prob.status)\n",
    "print('Optimal Risk:', prob.value)\n",
    "print('Optimal Distribution:', x.value)"
   ]
  },
  {
   "cell_type": "code",
   "execution_count": 6,
   "metadata": {},
   "outputs": [
    {
     "name": "stdout",
     "output_type": "stream",
     "text": [
      "Status: optimal\n",
      "Optimal Risk: 8.1580338048262e-05\n",
      "Optimal Distribution: [[ 0.17228975]\n",
      " [ 0.0855527 ]\n",
      " [-0.10007184]\n",
      " [ 0.05231169]\n",
      " [-0.16654099]\n",
      " [ 0.14640523]\n",
      " [-0.00235107]\n",
      " [ 0.2028064 ]\n",
      " [ 0.10304532]\n",
      " [-0.05317665]\n",
      " [-0.05411093]\n",
      " [ 0.07298781]\n",
      " [ 0.18541967]\n",
      " [ 0.16563737]\n",
      " [-0.2551374 ]\n",
      " [-0.05047944]\n",
      " [-0.17038558]\n",
      " [ 0.03115687]\n",
      " [ 0.14946293]\n",
      " [ 0.48517817]]\n"
     ]
    }
   ],
   "source": [
    "constraints_2 = constraints_0 + [cvx.abs(x) <= 1.5]\n",
    "prob = cvx.Problem(obj, constraints_2)\n",
    "prob.solve()\n",
    "print('Status:', prob.status)\n",
    "print('Optimal Risk:', prob.value)\n",
    "print('Optimal Distribution:', x.value)"
   ]
  },
  {
   "cell_type": "code",
   "execution_count": 69,
   "metadata": {},
   "outputs": [],
   "source": [
    "# (b)\n",
    "x = cvx.Variable(20)\n",
    "gamma = cvx.Parameter(sign='positive')\n",
    "risk = cvx.quad_form(x,S)\n",
    "ret = pbar.T*x\n",
    "obj = cvx.Minimize(gamma*risk-ret)\n",
    "# constraints_0 = [np.ones([1,20])*(x) == 1,\n",
    "#                 pbar.T*(x) >= pbar.T.dot(x_unif),\n",
    "#                 x >= 0]\n",
    "# constraints_1 = [np.ones([1,20])*(x) == 1,\n",
    "#                 pbar.T*(x) >= pbar.T.dot(x_unif),\n",
    "#                 cvx.abs(x) <= 1.5]\n",
    "constraints_0 = [np.ones([1,20])*(x) == 1,\n",
    "                x >= 0]\n",
    "constraints_1 = [np.ones([1,20])*(x) == 1,\n",
    "                cvx.abs(x) <= 1.5]\n",
    "prob0 = cvx.Problem(obj, constraints_0)\n",
    "prob1 = cvx.Problem(obj, constraints_1)\n",
    "N = 100\n",
    "gamma_vals = np.logspace(-5,4,num=N)\n",
    "RSK = np.zeros([N,2])\n",
    "RET = np.zeros([N,2])\n",
    "for i in range(N):\n",
    "    gamma.value = gamma_vals[i]\n",
    "    prob0.solve()\n",
    "    RSK[i,0] = cvx.sqrt(risk).value\n",
    "    RET[i,0] = ret.value\n",
    "    prob1.solve()\n",
    "    RSK[i,1] = cvx.sqrt(risk).value\n",
    "    RET[i,1] = ret.value"
   ]
  },
  {
   "cell_type": "code",
   "execution_count": 76,
   "metadata": {},
   "outputs": [
    {
     "data": {
      "image/png": "[encoded data removed]",
      "text/plain": [
       "<matplotlib.figure.Figure at 0x7faec2b9a128>"
      ]
     },
     "metadata": {},
     "output_type": "display_data"
    }
   ],
   "source": [
    "plt.figure()\n",
    "plt.plot(RSK[:,0],RET[:,0])\n",
    "plt.plot(RSK[:,1],RET[:,1],'--')\n",
    "plt.axis([0,0.5,0,0.8])\n",
    "plt.title('Markowitz Optimal Risk-Return')\n",
    "plt.xlabel('Risk (std)')\n",
    "plt.ylabel('Return (%)')\n",
    "plt.legend(['Long-only','50% short limited'])\n",
    "plt.show()"
   ]
  },
  {
   "cell_type": "code",
   "execution_count": 78,
   "metadata": {},
   "outputs": [
    {
     "data": {
      "image/png": "[encoded data removed]",
      "text/plain": [
       "<matplotlib.figure.Figure at 0x7faec260f6a0>"
      ]
     },
     "metadata": {},
     "output_type": "display_data"
    }
   ],
   "source": [
    "np.random.seed(1)\n",
    "\n",
    "T = 96\n",
    "t = np.linspace(1, T, num=T).reshape(T,1)\n",
    "p = np.exp(-np.cos((t-15)*2*np.pi/T)+0.01*np.random.randn(T,1))\n",
    "u = 2*np.exp(-0.6*np.cos((t+40)*np.pi/T) - 0.7*np.cos(t*4*np.pi/T)+0.01*np.random.randn(T,1))\n",
    "\n",
    "\n",
    "plt.figure(1)\n",
    "plt.plot(t/4, p); \n",
    "plt.plot(t/4, u, 'r'); \n",
    "plt.show()\n"
   ]
  },
  {
   "cell_type": "code",
   "execution_count": 79,
   "metadata": {},
   "outputs": [],
   "source": [
    "#A16.9\n",
    "Q = 35.0\n",
    "C = 3.0\n",
    "D = 3.0\n",
    "A = np.zeros([96,96])\n",
    "for i in range(96):\n",
    "    A[i, :i+1] = 1\n",
    "# print(A)"
   ]
  },
  {
   "cell_type": "code",
   "execution_count": 80,
   "metadata": {
    "collapsed": true
   },
   "outputs": [],
   "source": [
    "c = cvx.Variable(96)\n",
    "obj = cvx.Minimize(p.T*(u+c))\n",
    "q1 = 0.0\n",
    "q = q1 + A*c\n",
    "# qT = q1 + np.ones([1,96])*c"
   ]
  },
  {
   "cell_type": "code",
   "execution_count": 81,
   "metadata": {},
   "outputs": [
    {
     "name": "stdout",
     "output_type": "stream",
     "text": [
      "Status: optimal\n",
      "Optimal Cost: 379.410976996054\n",
      "Optimal Charge Distribution: [[  6.02049638e-10]\n",
      " [  4.13288626e-10]\n",
      " [  1.50245199e-12]\n",
      " [  1.31929370e-09]\n",
      " [ -1.50623333e-09]\n",
      " [  1.28584700e+00]\n",
      " [ -1.28584699e+00]\n",
      " [  1.99760568e-09]\n",
      " [  1.63995637e-09]\n",
      " [  3.00000000e+00]\n",
      " [  3.00000000e+00]\n",
      " [  3.00000000e+00]\n",
      " [  3.00000000e+00]\n",
      " [  3.00000000e+00]\n",
      " [  3.00000000e+00]\n",
      " [  3.00000000e+00]\n",
      " [  3.00000000e+00]\n",
      " [  3.00000000e+00]\n",
      " [  3.00000000e+00]\n",
      " [  3.00000000e+00]\n",
      " [  2.00000001e+00]\n",
      " [ -7.36671368e-10]\n",
      " [  2.04698604e-10]\n",
      " [  5.40978103e-10]\n",
      " [ -7.28981479e-10]\n",
      " [  1.02170854e-09]\n",
      " [ -2.09422230e-10]\n",
      " [  4.15183905e-10]\n",
      " [  1.00454606e-10]\n",
      " [ -2.27760387e-10]\n",
      " [  3.03923536e-10]\n",
      " [ -1.91295668e-12]\n",
      " [  6.84271233e-11]\n",
      " [  7.52958121e-11]\n",
      " [  7.30136068e-11]\n",
      " [ -1.02048517e-10]\n",
      " [  1.95663936e-10]\n",
      " [  2.94053119e-11]\n",
      " [ -1.01633992e-10]\n",
      " [  1.99017584e-11]\n",
      " [  3.46014939e-11]\n",
      " [  6.23086686e-11]\n",
      " [  9.20249632e-11]\n",
      " [ -1.65827132e-10]\n",
      " [  7.07925991e-11]\n",
      " [  7.45873328e-11]\n",
      " [  3.98238585e-11]\n",
      " [ -2.06767414e-10]\n",
      " [  1.64656454e-10]\n",
      " [ -4.23668281e-11]\n",
      " [ -3.25840055e-11]\n",
      " [ -2.87893339e-11]\n",
      " [  1.05105078e-10]\n",
      " [ -5.33942677e-11]\n",
      " [  1.07461944e-11]\n",
      " [ -2.99842653e-11]\n",
      " [ -3.80196355e-10]\n",
      " [ -3.00000000e+00]\n",
      " [ -3.00000000e+00]\n",
      " [ -3.00000000e+00]\n",
      " [ -3.00000000e+00]\n",
      " [ -3.00000000e+00]\n",
      " [ -3.00000000e+00]\n",
      " [ -3.00000000e+00]\n",
      " [ -3.00000000e+00]\n",
      " [ -3.00000000e+00]\n",
      " [ -3.00000000e+00]\n",
      " [ -3.00000000e+00]\n",
      " [ -2.00000000e+00]\n",
      " [  1.33180183e-10]\n",
      " [  1.02121467e-10]\n",
      " [ -6.93672866e-11]\n",
      " [ -1.74519713e-11]\n",
      " [ -9.42841086e-11]\n",
      " [ -5.84881878e-11]\n",
      " [  2.13801784e-10]\n",
      " [ -6.47599187e-11]\n",
      " [ -9.22992816e-11]\n",
      " [  5.68777283e-11]\n",
      " [ -5.67325369e-11]\n",
      " [  5.11560789e-11]\n",
      " [  2.98379121e-11]\n",
      " [  3.37027851e-12]\n",
      " [ -7.47587585e-12]\n",
      " [  2.35508679e-11]\n",
      " [ -1.13998702e-11]\n",
      " [  1.37272579e-10]\n",
      " [ -6.11088334e-11]\n",
      " [  1.28106015e-10]\n",
      " [ -4.17446560e-11]\n",
      " [ -3.56742456e-11]\n",
      " [  7.41410360e-11]\n",
      " [  7.12961333e-11]\n",
      " [  2.25418373e-10]\n",
      " [ -1.41238527e-10]\n",
      " [ -6.59408144e-10]]\n"
     ]
    }
   ],
   "source": [
    "constraints = [q <= Q, \n",
    "              q >= 0,\n",
    "              c <= C,\n",
    "              c >= -D, \n",
    "              c >= -u,\n",
    "              np.ones([1,96])*c == 0]\n",
    "prob = cvx.Problem(obj, constraints)\n",
    "prob.solve()\n",
    "print('Status:', prob.status)\n",
    "print('Optimal Cost:', prob.value)\n",
    "print('Optimal Charge Distribution:', c.value)"
   ]
  },
  {
   "cell_type": "code",
   "execution_count": 124,
   "metadata": {},
   "outputs": [
    {
     "data": {
      "image/png": "[encoded data removed]",
      "text/plain": [
       "<matplotlib.figure.Figure at 0x7faec2aea7f0>"
      ]
     },
     "metadata": {},
     "output_type": "display_data"
    }
   ],
   "source": [
    "plt.figure()\n",
    "ax1 = plt.axes()\n",
    "ax1.plot(t, u, label='Useage')\n",
    "ax1.plot(t, c.value, ':', label='Charge Rate')\n",
    "ax2 = ax1.twinx()\n",
    "ax2.plot(t, q.value,'--',label='Charge')\n",
    "ax1.set_xlabel('Time (increments)')\n",
    "ax1.set_ylabel('Useage Rate')\n",
    "ax2.set_ylabel('Battery Charge')\n",
    "ax1.legend(loc=2)\n",
    "ax2.legend(loc=0)\n",
    "plt.title('Charge and Useage vs Time')\n",
    "plt.show()"
   ]
  },
  {
   "cell_type": "code",
   "execution_count": 126,
   "metadata": {},
   "outputs": [
    {
     "data": {
      "image/png": "[encoded data removed]",
      "text/plain": [
       "<matplotlib.figure.Figure at 0x7faec2861898>"
      ]
     },
     "metadata": {},
     "output_type": "display_data"
    }
   ],
   "source": [
    "plt.figure()\n",
    "plt.plot(t, p)\n",
    "plt.xlabel('Time (increments)')\n",
    "plt.ylabel('Price')\n",
    "plt.title('Price vs Time')\n",
    "plt.show()"
   ]
  },
  {
   "cell_type": "code",
   "execution_count": 127,
   "metadata": {
    "collapsed": true
   },
   "outputs": [],
   "source": [
    "#(c)\n",
    "\n",
    "c = cvx.Variable(96)\n",
    "cost = p.T*(u+c)\n",
    "obj = cvx.Minimize(cost)\n",
    "q1 = 0.0\n",
    "q = q1 + A*c\n",
    "\n",
    "Q = cvx.Parameter(sign='positive')\n",
    "D = cvx.Parameter(sign='positive')\n",
    "C = cvx.Parameter(sign='positive')\n",
    "constraints = [q <= Q, \n",
    "              q >= 0,\n",
    "              c <= C,\n",
    "              c >= -D, \n",
    "              c >= -u,\n",
    "              np.ones([1,96])*c == 0]\n",
    "prob = cvx.Problem(obj, constraints)\n",
    "\n",
    "Q_vals = np.linspace(10,100,num=N)\n",
    "COST = np.zeros([N,2])\n",
    "for i in range(N):\n",
    "    Q.value = Q_vals[i]\n",
    "    C.value = 1.0\n",
    "    D.value = 1.0\n",
    "    prob.solve()\n",
    "    COST[i,0] = cost.value\n",
    "    C.value = 3.0\n",
    "    D.value = 3.0\n",
    "    prob.solve()\n",
    "    COST[i,1] = cost.value"
   ]
  },
  {
   "cell_type": "code",
   "execution_count": null,
   "metadata": {
    "collapsed": true
   },
   "outputs": [],
   "source": []
  }
 ],
 "metadata": {
  "anaconda-cloud": {},
  "kernelspec": {
   "display_name": "Python 3",
   "language": "python",
   "name": "python3"
  },
  "language_info": {
   "codemirror_mode": {
    "name": "ipython",
    "version": 3
   },
   "file_extension": ".py",
   "mimetype": "text/x-python",
   "name": "python",
   "nbconvert_exporter": "python",
   "pygments_lexer": "ipython3",
   "version": "3.5.2"
  }
 },
 "nbformat": 4,
 "nbformat_minor": 1
}
