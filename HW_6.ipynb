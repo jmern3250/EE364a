{
 "cells": [
  {
   "cell_type": "code",
   "execution_count": 18,
   "metadata": {
    "collapsed": true
   },
   "outputs": [],
   "source": [
    "import numpy as np \n",
    "import cvxpy as cvx \n",
    "import matplotlib.pyplot as plt \n",
    "import pdb "
   ]
  },
  {
   "cell_type": "code",
   "execution_count": 2,
   "metadata": {
    "collapsed": true
   },
   "outputs": [],
   "source": [
    "np.random.seed(0)\n",
    "m=100\n",
    "k=40 # max # permuted measurements\n",
    "n=20\n",
    "A=10*np.random.randn(m,n)\n",
    "x_true=np.random.randn(n,1) # true x value\n",
    "y_true = A.dot(x_true) + np.random.randn(m,1)\n",
    "# build permuted indices\n",
    "perm_idxs=np.random.permutation(m)\n",
    "perm_idxs=np.sort(perm_idxs[:k])\n",
    "temp_perm=np.random.permutation(k)\n",
    "new_pos=np.zeros(k)\n",
    "for i in range(k):\n",
    "  new_pos[i] = perm_idxs[temp_perm[i]]\n",
    "new_pos = new_pos.astype(int)\n",
    "# true permutation matrix\n",
    "P=np.identity(m)\n",
    "P[perm_idxs,:]=P[new_pos,:]\n",
    "true_perm=[]\n",
    "for i in range(k):\n",
    "  if perm_idxs[i] != new_pos[i]:\n",
    "    true_perm = np.append(true_perm, perm_idxs[i])\n",
    "y=P.dot(y_true)\n",
    "new_pos = None"
   ]
  },
  {
   "cell_type": "code",
   "execution_count": 26,
   "metadata": {},
   "outputs": [],
   "source": [
    "#Initialize x \n",
    "P = np.eye(m)\n",
    "x, _, _, _ = np.linalg.lstsq(A, P.T.dot(y_true))\n",
    "res = A.dot(x) - P.T.dot(y_true) \n",
    "idx_pre = np.argsort(res.squeeze())[-k:]\n",
    "# pdb.set_trace()\n",
    "# P_idx = cvx.Int(k) #indices to which searched indicies will be changed\n",
    "# P[idx_pre, :] = 0\n",
    "# P[idx_pre, P_idx] = 1\n",
    "P_ = cvx.Bool(k,k)\n",
    "A_ = A[idx_pre, idx_pre]\n",
    "obj = cvx.Minimize(cvx.norm(A.dot(x) - P_.T*y_true))\n",
    "constraints = [np.ones(m)*P_*np.ones(m).T <= k,\n",
    "               P_[idx_pre, :] == P[idx_pre, :]\n",
    "              ]\n",
    "prob = cvx.Problem(obj, constraints)\n",
    "# prob.solve()\n",
    "# error = []\n",
    "# for i in range(10):\n",
    "#     prob.solve()\n",
    "#     P_ = P.value()\n",
    "#     x, _, _, _ = np.linalg.lstsq(A, P_.T.dot(y_true))\n",
    "#     error.append(prob.value())\n",
    "#     print('Iteration %r solved with error: %r' % (i+1, prob.value()))\n",
    "    "
   ]
  },
  {
   "cell_type": "code",
   "execution_count": 15,
   "metadata": {},
   "outputs": [
    {
     "data": {
      "text/plain": [
       "array([[ 1.,  0.,  0., ...,  0.,  0.,  0.],\n",
       "       [ 0.,  1.,  0., ...,  0.,  0.,  0.],\n",
       "       [ 0.,  0.,  1., ...,  0.,  0.,  0.],\n",
       "       ..., \n",
       "       [ 0.,  0.,  0., ...,  1.,  0.,  0.],\n",
       "       [ 0.,  0.,  0., ...,  0.,  1.,  0.],\n",
       "       [ 0.,  0.,  0., ...,  0.,  0.,  1.]])"
      ]
     },
     "execution_count": 15,
     "metadata": {},
     "output_type": "execute_result"
    }
   ],
   "source": []
  },
  {
   "cell_type": "code",
   "execution_count": null,
   "metadata": {},
   "outputs": [],
   "source": [
    "\n"
   ]
  },
  {
   "cell_type": "code",
   "execution_count": null,
   "metadata": {
    "collapsed": true
   },
   "outputs": [],
   "source": []
  }
 ],
 "metadata": {
  "kernelspec": {
   "display_name": "Python 3",
   "language": "python",
   "name": "python3"
  },
  "language_info": {
   "codemirror_mode": {
    "name": "ipython",
    "version": 3
   },
   "file_extension": ".py",
   "mimetype": "text/x-python",
   "name": "python",
   "nbconvert_exporter": "python",
   "pygments_lexer": "ipython3",
   "version": "3.5.2"
  }
 },
 "nbformat": 4,
 "nbformat_minor": 2
}
